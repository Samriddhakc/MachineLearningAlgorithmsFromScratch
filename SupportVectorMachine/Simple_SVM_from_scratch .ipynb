{
 "cells": [
  {
   "cell_type": "code",
   "execution_count": 2,
   "metadata": {},
   "outputs": [],
   "source": [
    "import pandas as pd \n",
    "import matplotlib.pyplot as plt\n",
    "import numpy as np\n",
    "from sklearn.model_selection import train_test_split"
   ]
  },
  {
   "cell_type": "code",
   "execution_count": 3,
   "metadata": {},
   "outputs": [],
   "source": [
    "df=pd.read_csv(\"iris.csv\")"
   ]
  },
  {
   "cell_type": "code",
   "execution_count": 4,
   "metadata": {},
   "outputs": [
    {
     "data": {
      "text/html": [
       "<div>\n",
       "<style scoped>\n",
       "    .dataframe tbody tr th:only-of-type {\n",
       "        vertical-align: middle;\n",
       "    }\n",
       "\n",
       "    .dataframe tbody tr th {\n",
       "        vertical-align: top;\n",
       "    }\n",
       "\n",
       "    .dataframe thead th {\n",
       "        text-align: right;\n",
       "    }\n",
       "</style>\n",
       "<table border=\"1\" class=\"dataframe\">\n",
       "  <thead>\n",
       "    <tr style=\"text-align: right;\">\n",
       "      <th></th>\n",
       "      <th>sepal_length</th>\n",
       "      <th>sepal_width</th>\n",
       "      <th>petal_length</th>\n",
       "      <th>petal_width</th>\n",
       "      <th>species</th>\n",
       "    </tr>\n",
       "  </thead>\n",
       "  <tbody>\n",
       "    <tr>\n",
       "      <th>0</th>\n",
       "      <td>5.1</td>\n",
       "      <td>3.5</td>\n",
       "      <td>1.4</td>\n",
       "      <td>0.2</td>\n",
       "      <td>setosa</td>\n",
       "    </tr>\n",
       "    <tr>\n",
       "      <th>1</th>\n",
       "      <td>4.9</td>\n",
       "      <td>3.0</td>\n",
       "      <td>1.4</td>\n",
       "      <td>0.2</td>\n",
       "      <td>setosa</td>\n",
       "    </tr>\n",
       "    <tr>\n",
       "      <th>2</th>\n",
       "      <td>4.7</td>\n",
       "      <td>3.2</td>\n",
       "      <td>1.3</td>\n",
       "      <td>0.2</td>\n",
       "      <td>setosa</td>\n",
       "    </tr>\n",
       "  </tbody>\n",
       "</table>\n",
       "</div>"
      ],
      "text/plain": [
       "   sepal_length  sepal_width  petal_length  petal_width species\n",
       "0           5.1          3.5           1.4          0.2  setosa\n",
       "1           4.9          3.0           1.4          0.2  setosa\n",
       "2           4.7          3.2           1.3          0.2  setosa"
      ]
     },
     "execution_count": 4,
     "metadata": {},
     "output_type": "execute_result"
    }
   ],
   "source": [
    "df.head(3)"
   ]
  },
  {
   "cell_type": "code",
   "execution_count": 5,
   "metadata": {
    "scrolled": true
   },
   "outputs": [],
   "source": [
    "X=df['petal_length']\n",
    "Y=df['petal_width']\n",
    "\n",
    "X_sestosa=X[:50]\n",
    "Y_sestosa=Y[:50]\n",
    "\n",
    "X_veriscolor=X[50:100]\n",
    "Y_veriscolor=Y[50:100]"
   ]
  },
  {
   "cell_type": "code",
   "execution_count": 6,
   "metadata": {
    "scrolled": true
   },
   "outputs": [
    {
     "data": {
      "image/png": "[encoded data removed]",
      "text/plain": [
       "<Figure size 576x432 with 1 Axes>"
      ]
     },
     "metadata": {},
     "output_type": "display_data"
    }
   ],
   "source": [
    "plt.figure(figsize=(8,6))\n",
    "plt.scatter(X_sestosa,Y_sestosa,c=\"green\",label='sestosa')\n",
    "plt.scatter(X_veriscolor,Y_veriscolor,c=\"red\",marker='+',label='veriscolor')\n",
    "plt.legend()\n",
    "plt.show()"
   ]
  },
  {
   "cell_type": "code",
   "execution_count": 7,
   "metadata": {},
   "outputs": [],
   "source": [
    "X_1=np.concatenate((X_sestosa,X_veriscolor),axis=0)\n",
    "X_2=np.concatenate((Y_sestosa,Y_veriscolor),axis=0)\n",
    "X_1=np.reshape(X_1,(X_1.size,1))\n",
    "X_2=np.reshape(X_2,(X_2.size,1))\n",
    "X=np.concatenate((X_1,X_2),axis=1)"
   ]
  },
  {
   "cell_type": "code",
   "execution_count": 8,
   "metadata": {},
   "outputs": [],
   "source": [
    "Y=np.concatenate((np.ones(50),np.ones(50)*-1),axis=0)\n",
    "Y=Y.reshape((Y.size,1))"
   ]
  },
  {
   "cell_type": "code",
   "execution_count": 9,
   "metadata": {},
   "outputs": [],
   "source": [
    "X=np.concatenate((np.ones((X.shape[0],1)),X),axis=1)"
   ]
  },
  {
   "cell_type": "code",
   "execution_count": 10,
   "metadata": {},
   "outputs": [
    {
     "name": "stdout",
     "output_type": "stream",
     "text": [
      "The shape of X is (100, 3)\n",
      "The shape of Y is (100, 1)\n"
     ]
    }
   ],
   "source": [
    "#Shapes Check\n",
    "print(\"The shape of X is\",X.shape)\n",
    "print(\"The shape of Y is\", Y.shape)"
   ]
  },
  {
   "cell_type": "code",
   "execution_count": 11,
   "metadata": {},
   "outputs": [
    {
     "name": "stdout",
     "output_type": "stream",
     "text": [
      "(60, 3) (60, 1) (40, 3) (40, 1)\n"
     ]
    }
   ],
   "source": [
    "#Splitting data into Train-Test set. \n",
    "X_train, X_test, y_train, y_test = train_test_split(X, Y, test_size=0.4)\n",
    "#X_test,X_val, y_test, y_val= train_test_split(X_test,y_test,test_size=0.5)\n",
    "print(X_train.shape, y_train.shape, X_test.shape,y_test.shape)"
   ]
  },
  {
   "cell_type": "code",
   "execution_count": 12,
   "metadata": {},
   "outputs": [],
   "source": [
    "class SVM: \n",
    "    \n",
    "    def __init__(self):\n",
    "        self.theta=np.ones((3,1))\n",
    "        self.train_iteration_cost_lis=[]\n",
    "    \n",
    "    def train(self,X,Y,learning_rate, regulizer,epochs):\n",
    "        \n",
    "        for i in range(epochs):\n",
    "            Y_train=np.dot(X,self.theta)\n",
    "            #print(\"The shape of Y_train is\", Y.shape)\n",
    "            product=Y_train*Y\n",
    "            #print(\"The shape of product is\", product.shape)\n",
    "            #print(np.squeeze(product))\n",
    "            train_iteration_cost=0\n",
    "            for p_index in range(product.size): \n",
    "                #print(\"Before the error\",product[p_index])\n",
    "                if (product[p_index][0]>1): \n",
    "                    train_iteration_cost=train_iteration_cost\n",
    "                    self.theta=self.theta-learning_rate*2*regulizer*self.theta\n",
    "                    \n",
    "                else: \n",
    "                    train_iteration_cost=train_iteration_cost+(1-product[p_index][0])\n",
    "                    grad_cost=(Y[p_index]*(X[p_index,:])).reshape(self.theta.size,1)\n",
    "                    self.theta=self.theta+learning_rate*(grad_cost-2*regulizer*self.theta)\n",
    "            #print(\"The loss for iteration\"+str(i)+\"is\",iteration_cost)\n",
    "            if (i%10):\n",
    "                self.train_iteration_cost_lis.append(train_iteration_cost)\n",
    "            \n",
    "    def plot_loss_graph(self):\n",
    "        plt.plot(self.train_iteration_cost_lis,label=\"TrainLoss\")\n",
    "        plt.ylabel('loss')\n",
    "        plt.legend()\n",
    "        plt.show()\n",
    "        \n",
    "    def optimized_theta(self):\n",
    "        return self.theta \n",
    "        \n",
    "    def evaluate_model(self,X_test,y_test):\n",
    "        y_pred=np.dot(X_test,self.theta)\n",
    "        y_pred[y_pred>=0]=1\n",
    "        y_pred[y_pred<0]=-1\n",
    "        print(\"The accuracy of the model is\", (np.sum(y_pred==y_test)/y_test.size)*100)\n",
    "        \n",
    "        \n",
    "            \n",
    "            \n",
    "            \n",
    "    \n",
    "            \n",
    "            \n",
    "         \n",
    "            \n",
    "            \n",
    "            \n",
    "        \n",
    "    "
   ]
  },
  {
   "cell_type": "code",
   "execution_count": 13,
   "metadata": {},
   "outputs": [
    {
     "data": {
      "image/png": "[encoded data removed]",
      "text/plain": [
       "<Figure size 432x288 with 1 Axes>"
      ]
     },
     "metadata": {},
     "output_type": "display_data"
    }
   ],
   "source": [
    "svm=SVM()\n",
    "svm.train(X_train,y_train,0.01,0.0001,1000)\n",
    "svm.plot_loss_graph()"
   ]
  },
  {
   "cell_type": "code",
   "execution_count": 14,
   "metadata": {},
   "outputs": [
    {
     "name": "stdout",
     "output_type": "stream",
     "text": [
      "The accuracy of the model is 100.0\n"
     ]
    }
   ],
   "source": [
    "svm.evaluate_model(X_test,y_test)"
   ]
  },
  {
   "cell_type": "code",
   "execution_count": 15,
   "metadata": {},
   "outputs": [
    {
     "data": {
      "text/plain": [
       "array([[ 3.5386827 ],\n",
       "       [-1.07758176],\n",
       "       [-1.19305958]])"
      ]
     },
     "execution_count": 15,
     "metadata": {},
     "output_type": "execute_result"
    }
   ],
   "source": [
    "#Plot the large-margin classifier. \n",
    "#Train set. \n",
    "opt_theta=svm.optimized_theta()\n",
    "opt_theta"
   ]
  },
  {
   "cell_type": "code",
   "execution_count": 17,
   "metadata": {},
   "outputs": [
    {
     "data": {
      "image/png": "[encoded data removed]",
      "text/plain": [
       "<Figure size 432x288 with 1 Axes>"
      ]
     },
     "metadata": {},
     "output_type": "display_data"
    }
   ],
   "source": [
    "x = np.linspace(1,5,100)\n",
    "y =7-2.433*x\n",
    "plt.plot(x, y, '-r', c='blue', label='LargeMarginClassifer')\n",
    "plt.scatter(X_sestosa,Y_sestosa,c=\"green\",label='sestosa')\n",
    "plt.scatter(X_veriscolor,Y_veriscolor,c=\"red\",marker='+',label='veriscolor')\n",
    "plt.legend()\n",
    "plt.show()"
   ]
  },
  {
   "cell_type": "code",
   "execution_count": 131,
   "metadata": {},
   "outputs": [
    {
     "data": {
      "text/plain": [
       "2.4330143540669855"
      ]
     },
     "execution_count": 131,
     "metadata": {},
     "output_type": "execute_result"
    }
   ],
   "source": [
    "1.017/0.418"
   ]
  }
 ],
 "metadata": {
  "kernelspec": {
   "display_name": "Python 3",
   "language": "python",
   "name": "python3"
  },
  "language_info": {
   "codemirror_mode": {
    "name": "ipython",
    "version": 3
   },
   "file_extension": ".py",
   "mimetype": "text/x-python",
   "name": "python",
   "nbconvert_exporter": "python",
   "pygments_lexer": "ipython3",
   "version": "3.7.4"
  }
 },
 "nbformat": 4,
 "nbformat_minor": 2
}
