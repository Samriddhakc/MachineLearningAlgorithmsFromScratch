{
 "cells": [
  {
   "cell_type": "code",
   "execution_count": null,
   "metadata": {},
   "outputs": [],
   "source": [
    "import numpy as np\n",
    "import copy \n",
    "import matplotlib.pyplot as plt\n",
    "import sklearn\n",
    "import sklearn.datasets\n",
    "from sklearn.datasets.samples_generator import make_blobs\n",
    "import sklearn.linear_model\n",
    "import sklearn.linear_model\n",
    "from sklearn.model_selection import train_test_split\n",
    "import import_ipynb\n",
    "from HelperFunctions import relu,sigmoid,loss,L2_loss,gradient_descent_with_momentum,gradient_descent_normal\n",
    "np.random.seed(1) # set a seed so that the results are consistent\n",
    "#from ipynb.fs.full.HelperFunctions import *"
   ]
  },
  {
   "cell_type": "code",
   "execution_count": 2,
   "metadata": {},
   "outputs": [
    {
     "data": {
      "image/png": "[encoded data removed]",
      "text/plain": [
       "<Figure size 432x288 with 1 Axes>"
      ]
     },
     "metadata": {
      "needs_background": "light"
     },
     "output_type": "display_data"
    }
   ],
   "source": [
    "from sklearn.datasets.samples_generator import make_blobs\n",
    "from matplotlib import pyplot\n",
    "from pandas import DataFrame\n",
    "# generate 2d classification dataset\n",
    "X, Y = make_blobs(n_samples=200, centers=2, n_features=2)\n",
    "# scatter plot, dots colored by class value\n",
    "df = DataFrame(dict(x=X[:,0], y=X[:,1], label=Y))\n",
    "colors = {0:'red', 1:'blue', 2:'green'}\n",
    "fig, ax = pyplot.subplots()\n",
    "grouped = df.groupby('label')\n",
    "for key, group in grouped:\n",
    "    group.plot(ax=ax, kind='scatter', x='x', y='y', label=key, color=colors[key])\n",
    "pyplot.show()\n"
   ]
  },
  {
   "cell_type": "code",
   "execution_count": 3,
   "metadata": {},
   "outputs": [
    {
     "data": {
      "text/plain": [
       "array([1, 1, 1, 0, 1, 1, 0, 1, 0, 1, 1, 1, 0, 0, 1, 1, 1, 1, 0, 1, 1, 1,\n",
       "       1, 0, 0, 0, 0, 0, 1, 1, 1, 1, 0, 1, 1, 0, 0, 0, 1, 1, 0, 0, 1, 0,\n",
       "       1, 1, 0, 1, 0, 0, 1, 1, 0, 0, 0, 0, 0, 1, 0, 1, 1, 1, 0, 1, 1, 1,\n",
       "       1, 0, 1, 1, 0, 0, 1, 1, 1, 1, 0, 1, 0, 1, 0, 0, 1, 1, 0, 1, 0, 0,\n",
       "       0, 0, 1, 0, 1, 0, 0, 1, 0, 1, 1, 0, 1, 0, 0, 1, 0, 0, 0, 0, 0, 1,\n",
       "       0, 0, 0, 1, 0, 1, 1, 1, 0, 1, 1, 1, 0, 0, 0, 1, 1, 1, 0, 1, 0, 0,\n",
       "       1, 1, 1, 0, 0, 1, 0, 1, 0, 1, 1, 1, 1, 0, 1, 0, 0, 0, 0, 0, 1, 0,\n",
       "       0, 0, 0, 0, 0, 1, 1, 0, 1, 1, 0, 0, 1, 1, 0, 0, 1, 0, 0, 0, 0, 1,\n",
       "       0, 0, 0, 1, 0, 1, 0, 0, 0, 1, 1, 1, 1, 0, 1, 1, 0, 1, 1, 1, 0, 0,\n",
       "       1, 0])"
      ]
     },
     "execution_count": 3,
     "metadata": {},
     "output_type": "execute_result"
    }
   ],
   "source": [
    "#data_to_test the algorithm\n",
    "'''from sklearn.datasets import load_iris\n",
    "data=load_iris()\n",
    "X=data.data\n",
    "Y=data.target'''\n",
    "#Y[Y>0]=1\n",
    "feature_mean=np.mean(X,axis=0)\n",
    "feature_SD=np.std(X,axis=0)\n",
    "X=(X-feature_mean)/feature_SD\n",
    "X\n",
    "Y"
   ]
  },
  {
   "cell_type": "code",
   "execution_count": 4,
   "metadata": {},
   "outputs": [
    {
     "name": "stdout",
     "output_type": "stream",
     "text": [
      "(134, 2)\n",
      "(66, 2)\n",
      "(134,)\n",
      "(66,)\n"
     ]
    }
   ],
   "source": [
    "Y.reshape((Y.shape[0],1))\n",
    "x_train,x_test, y_train, y_test = train_test_split(X, Y, test_size=0.33, random_state=42)\n",
    "print(x_train.shape)\n",
    "print(x_test.shape)\n",
    "print(y_train.shape)\n",
    "print(y_test.shape)"
   ]
  },
  {
   "cell_type": "code",
   "execution_count": 5,
   "metadata": {},
   "outputs": [
    {
     "name": "stdout",
     "output_type": "stream",
     "text": [
      "(2, 134)\n",
      "(2, 66)\n",
      "(1, 134)\n",
      "(1, 66)\n"
     ]
    }
   ],
   "source": [
    "x_train=x_train.T\n",
    "x_test=x_test.T\n",
    "y_train=y_train.reshape((y_train.shape[0],1))\n",
    "y_train=y_train.T\n",
    "y_test=y_test.reshape((y_test.shape[0],1))\n",
    "y_test=y_test.T\n",
    "print(x_train.shape)\n",
    "print(x_test.shape)\n",
    "print(y_train.shape)\n",
    "print(y_test.shape)"
   ]
  },
  {
   "cell_type": "code",
   "execution_count": null,
   "metadata": {},
   "outputs": [],
   "source": [
    "#Intialize Model Parameters\n",
    "\n",
    "class MultiLayerNueralNet():\n",
    "    \n",
    "    \n",
    "    def __init__(self,num_input,num_hidden,num_output):\n",
    "        \n",
    "        \"\"\"\n",
    "        \n",
    "        intialize class  instance variables \n",
    "        Argument:\n",
    "        num_input -- size of the input layer\n",
    "        num_hidden -- size of the hidden layer\n",
    "        num_ouput -- size of the output layer\n",
    "        \n",
    "        \"\"\"\n",
    "        np.random.seed(2)\n",
    "        self.num_input=num_input\n",
    "        self.num_hidden=num_hidden\n",
    "        self.num_output=num_output\n",
    "        self.W1=np.random.rand(num_hidden,num_input)\n",
    "        self.W2=np.random.rand(num_output,num_hidden)*0.01\n",
    "        self.b1=np.zeros((num_hidden,1))\n",
    "        self.b2=np.zeros((num_output,1))\n",
    "        self.cache={\"Z1\": None,\"A1\": None,\"Z2\": None,\"A2\": None}\n",
    "        self.grad_cache={\"dW1\": None,\"dW2\": None,\"db1\": None,\"db2\": None}\n",
    "   \n",
    "    \n",
    "    def forward_propgation(self,X):\n",
    "        \n",
    "        #LINEAR->RELU->LINEAR->SIGMOID\n",
    "        \n",
    "        W1=self.W1\n",
    "        W2=self.W2\n",
    "        b1=self.b1\n",
    "        b2=self.b2\n",
    "        Z1=np.dot(W1,X)+b1\n",
    "        A1=relu(Z1)\n",
    "        Z2=np.dot(W2,A1)+b2\n",
    "        A2=sigmoid(Z2)\n",
    "        self.cache[\"Z1\"]=Z1\n",
    "        self.cache[\"A1\"]=A1\n",
    "        self.cache[\"Z2\"]=Z2\n",
    "        self.cache[\"A2\"]=A2\n",
    "        return A2\n",
    "    \n",
    "    def forward_propgation_for_grad_check(self,X,parameters):\n",
    "        \n",
    "        #LINEAR->RELU->LINEAR->SIGMOID\n",
    "        \n",
    "        W1=parameters[:self.W1.size].reshape(self.W1.shape)\n",
    "        W2=parameters[self.W1.size:self.W1.size+self.W2.size].reshape(self.W2.shape)\n",
    "        b1=parameters[self.W1.size+self.W2.size:self.W1.size+self.W2.size+self.b1.size].reshape(self.b1.shape)\n",
    "        b2=parameters[self.W1.size+self.W2.size+self.b1.size:self.W1.size+self.W2.size+self.b1.size+self.b2.size].reshape(self.b2.shape)\n",
    "        assert(W1.shape==self.W1.shape)\n",
    "        assert(W2.shape==self.W2.shape)\n",
    "        assert(b1.shape==self.b1.shape)\n",
    "        assert(b2.shape==self.b2.shape)\n",
    "       \n",
    "        Z1=np.dot(W1,X)+b1\n",
    "        A1=relu(Z1)\n",
    "        Z2=np.dot(W2,A1)+b2\n",
    "        A2=sigmoid(Z2)\n",
    "        self.cache[\"Z1\"]=Z1\n",
    "        self.cache[\"A1\"]=A1\n",
    "        self.cache[\"Z2\"]=Z2\n",
    "        self.cache[\"A2\"]=A2\n",
    "        return A2\n",
    "    \n",
    "    def backward_propagation(self,X,Y):\n",
    "        \n",
    "        #Y=np.eye(3)[Y.squeeze()].T\n",
    "        m=X.shape[1]\n",
    "        W1=self.W1\n",
    "        W2=self.W2\n",
    "        b1=self.b1\n",
    "        b2=self.b2\n",
    "        Z1=self.cache[\"Z1\"]\n",
    "        A1=self.cache[\"A1\"]\n",
    "        Z2=self.cache[\"Z2\"]\n",
    "        A2=self.cache[\"A2\"]\n",
    "        dZ2=(A2 - Y)\n",
    "        dW2=(1./m)*np.dot(dZ2,A1.T)\n",
    "        db2=(1./m)*np.sum(dZ2,axis=1, keepdims = True)\n",
    "        #dZ1=np.dot(W2.T,dZ2)*A1*(1-A1)\n",
    "        dZ1=np.multiply(np.dot(W2.T,dZ2),np.int64(A1 > 0))\n",
    "        dW1=(1./m)*np.dot(dZ1,X.T)\n",
    "        db1=(1./m)*np.sum(dZ1,axis=1, keepdims = True)\n",
    "        self.grad_cache[\"dW1\"]=dW1\n",
    "        self.grad_cache[\"dW2\"]=dW2\n",
    "        self.grad_cache[\"db1\"]=db1\n",
    "        self.grad_cache[\"db2\"]=db2\n",
    "         \n",
    "    def implement_gradient_check(self,X,y,epsilon=1e-7):\n",
    "        \n",
    "        grad_concat=np.concatenate((self.grad_cache[\"dW1\"].flatten(),self.grad_cache[\"dW2\"].flatten(),self.grad_cache[\"db1\"].flatten(),self.grad_cache[\"db2\"].flatten()))\n",
    "        grad_concat=grad_concat.reshape((grad_concat.shape[0],1))\n",
    "        grad_approx=np.zeros(grad_concat.size)\n",
    "        grad_approx=grad_approx.reshape((grad_approx.shape[0],1))\n",
    "        parameter_concat=np.concatenate((self.W1.flatten(),self.W2.flatten(),self.b1.flatten(),self.b2.flatten()))\n",
    "        parameter_concat=parameter_concat.reshape((parameter_concat.shape[0],1))\n",
    "        \n",
    "        \n",
    "        for i in range(parameter_concat.size): \n",
    "            \n",
    "            parameter_concat_plus=copy.copy(parameter_concat)\n",
    "            parameter_concat_minus=copy.copy(parameter_concat)\n",
    "            parameter_concat_plus[i]=parameter_concat_plus[i]+epsilon\n",
    "            parameter_concat_minus[i]=parameter_concat_minus[i]-epsilon\n",
    "            A_plus=self.forward_propgation_for_grad_check(X,parameter_concat_plus)\n",
    "            J_plus=loss(X.shape[1],A_plus,y)\n",
    "            A_minus=self.forward_propgation_for_grad_check(X,parameter_concat_minus)\n",
    "            J_minus=loss(X.shape[1],A_minus,y)\n",
    "            grad_approx[i][0]=(J_plus- J_minus)/(2*epsilon)\n",
    "            \n",
    "        difference=np.sqrt(np.sum(((grad_approx-grad_concat)**2)))\n",
    "        L2_1=np.sqrt(np.sum(((grad_approx)**2)))\n",
    "        L2_2=np.sqrt(np.sum(((grad_concat)**2)))\n",
    "        difference=difference/(L2_2+L2_1)\n",
    "        #print(\"the difference is\",difference)\n",
    "        return difference\n",
    "    \n",
    "    #def Adam():   \n",
    "    #def RMS prop \n",
    "    #gradient descent with momentum. \n",
    "    \n",
    "    def train(self,x_train,y_train,x_test,y_test,num_iterations,gradient_name,learning_rate=0.1):\n",
    "        \n",
    "        train_loss=[]\n",
    "        test_loss=[]\n",
    "        #y_train=np.eye(3)[y_train.squeeze()].T\n",
    "        #y_test=np.eye(3)[y_test.squeeze()].T\n",
    "        m_train=y_train.shape[1]\n",
    "        m_test=y_test.shape[1]\n",
    "        #one_hot_y=np.eye(3)[y_train]\n",
    "        for i in range(num_iterations):\n",
    "            \n",
    "            self.forward_propgation(x_train)\n",
    "            self.backward_propagation(x_train,y_train)\n",
    "            if(gradient_name==\"graident_descent\"):\n",
    "                params={\"W1\": self.W1,\"W2\": self.W2,\"b1\": self.b1,\"b2\": self.b2}\n",
    "                grad_params=self.grad_cache\n",
    "                W1,W2,b1,b2=gradient_descent_normal(grad_params,params,learning_rate)\n",
    "                self.W1=W1\n",
    "                self.W2=W2\n",
    "                self.b1=b1\n",
    "                self.b2=b2\n",
    "                \n",
    "            elif(gradient_name==\"graident_descent_with_momentum\"): \n",
    "                self.W1,self.W2,self.b1,self.b2=gradient_descent_with_momentum(self.grad_cache,self.cache,learning_rate)\n",
    "    \n",
    "            if((i%10)==0):\n",
    "                \n",
    "                print(\"The train loss in\"+ str(i)+\"iterations is\", loss(m_train,self.cache[\"A2\"],y_train))\n",
    "                train_loss.append(loss(m_train,self.cache[\"A2\"],y_train))\n",
    "                self.implement_gradient_check(x_train,y_train)\n",
    "                self.forward_propgation(x_test)\n",
    "                #print(\"The val loss in\"+ str(i)+\"iterations is\", L2_loss(m_test,self.cache[\"A2\"],y_test))\n",
    "                test_loss.append(loss(m_test,self.cache[\"A2\"],y_test))\n",
    "        return train_loss,test_loss\n",
    "    \n",
    "    def predict(self,x):\n",
    "        \n",
    "        y_pred=self.forward_propgation(x_test)[0][0]\n",
    "        if (y_pred>=0.5):\n",
    "                return 1\n",
    "        else: \n",
    "            return 0\n",
    "        \n",
    "    def accuracy(self,x,y,output_n):\n",
    "        y_pred=self.forward_propgation(x)\n",
    "        if (output_n==1):\n",
    "            y_pred[y_pred>=0.5]=1\n",
    "            y_pred[y_pred<0.5]=0\n",
    "            return  y_pred,(np.sum(y_pred==y)/y.size)*100\n",
    "        else:\n",
    "            y_pred=np.argmax(y_pred,axis=0)\n",
    "            return  y_pred,(np.sum(y_pred==y)/y.size)*100\n",
    "\n",
    "\n",
    "        \n",
    "        \n",
    "        \n",
    "        "
   ]
  },
  {
   "cell_type": "code",
   "execution_count": null,
   "metadata": {
    "scrolled": false
   },
   "outputs": [],
   "source": [
    "nueralnet=MultiLayerNueralNet(x_train.shape[0],100,1)\n",
    "A2=nueralnet.forward_propgation(x_train)\n",
    "nueralnet.backward_propagation(x_train,y_train)\n",
    "train_loss,test_loss=nueralnet.train(x_train,y_train,x_test,y_test,10000,\"graident_descent\")\n",
    "print(nueralnet.implement_gradient_check(x_train,y_train))"
   ]
  },
  {
   "cell_type": "code",
   "execution_count": null,
   "metadata": {},
   "outputs": [],
   "source": [
    "L2_loss(y_train.shape[1],A2,y_train)"
   ]
  },
  {
   "cell_type": "code",
   "execution_count": null,
   "metadata": {},
   "outputs": [],
   "source": [
    "import matplotlib.pyplot as plt\n",
    "plt.plot(train_loss,label=\"TrainLoss\")\n",
    "plt.plot(test_loss,label=\"ValidationLoss\")\n",
    "plt.ylabel('loss')\n",
    "plt.legend()\n",
    "plt.show()"
   ]
  },
  {
   "cell_type": "code",
   "execution_count": null,
   "metadata": {},
   "outputs": [],
   "source": [
    "feature=np.array([-1.14452391, -1.19360307])\n",
    "y_pred,accuracy=nueralnet.accuracy(x_test,y_test,1)\n",
    "print(accuracy)"
   ]
  },
  {
   "cell_type": "code",
   "execution_count": null,
   "metadata": {},
   "outputs": [],
   "source": [
    "#confusion Matrix \n",
    "import seaborn as sn\n",
    "import pandas as pd\n",
    "from sklearn.metrics import confusion_matrix,multilabel_confusion_matrix\n",
    "y_pred=y_pred.reshape((1,66))\n",
    "y_true = y_test\n",
    "fig, axes= plt.subplots(1,3,figsize=(10,5))\n",
    "conf_array=multilabel_confusion_matrix((np.squeeze(y_test)).tolist(), (np.squeeze(y_pred)).tolist(), labels=[0,1,2])\n",
    "label_maps={\"setosa\":0,\"veriscular\":1,\"virginica\":2}\n",
    "for index in range(len(conf_array)): \n",
    "    keys_list=list(label_maps.keys())\n",
    "    current_index_string=keys_list[list(label_maps.values()).index(index)]\n",
    "    df_cm = pd.DataFrame(conf_array[index], index = [i for i in ['not-'+current_index_string, current_index_string]],\n",
    "                      columns = [i for i in ['not-'+current_index_string, current_index_string]])\n",
    "    plt.figure(figsize = (10,10))\n",
    "    sn.heatmap(df_cm,ax=axes[index], annot=True)"
   ]
  },
  {
   "cell_type": "code",
   "execution_count": null,
   "metadata": {},
   "outputs": [],
   "source": [
    "from sklearn.metrics import precision_recall_fscore_support\n",
    "result_tuple=precision_recall_fscore_support((np.squeeze(y_test)).tolist(), (np.squeeze(y_pred)).tolist(), average='weighted')\n",
    "print(\"The Precision of the NueralNet for this dataset is\",result_tuple[0])\n",
    "print(\"The Recall of the NueralNet for this dataset is\",result_tuple[1])\n",
    "print(\"The F1 Score of the NueralNet for this dataset is\",result_tuple[2]) "
   ]
  }
 ],
 "metadata": {
  "kernelspec": {
   "display_name": "Python 3",
   "language": "python",
   "name": "python3"
  },
  "language_info": {
   "codemirror_mode": {
    "name": "ipython",
    "version": 3
   },
   "file_extension": ".py",
   "mimetype": "text/x-python",
   "name": "python",
   "nbconvert_exporter": "python",
   "pygments_lexer": "ipython3",
   "version": "3.7.3"
  }
 },
 "nbformat": 4,
 "nbformat_minor": 2
}
